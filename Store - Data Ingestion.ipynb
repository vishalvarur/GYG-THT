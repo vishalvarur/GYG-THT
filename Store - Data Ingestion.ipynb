{
 "cells": [
  {
   "cell_type": "markdown",
   "metadata": {
    "application/vnd.databricks.v1+cell": {
     "cellMetadata": {},
     "inputWidgets": {},
     "nuid": "a19b262b-4ca9-416b-aaa4-bb87d7f14176",
     "showTitle": false,
     "tableResultSettingsMap": {},
     "title": ""
    }
   },
   "source": [
    "### This notebook ingests the data from Google Cloud Storage to Databricks table.\n",
    "- The source of data is a transactional CSV file stored in Google Cloud Storage (GCS) which is publicaly available.\n",
    "- The dataset consists of order transactions, including user details, item details, and purchase information.\n",
    "- Source data: https://storage.googleapis.com/gyg-store/transaction_data.csv\n"
   ]
  },
  {
   "cell_type": "code",
   "execution_count": 0,
   "metadata": {
    "application/vnd.databricks.v1+cell": {
     "cellMetadata": {},
     "inputWidgets": {},
     "nuid": "e548d75e-b7b0-4828-9855-f80f73f7f293",
     "showTitle": false,
     "tableResultSettingsMap": {},
     "title": ""
    }
   },
   "outputs": [],
   "source": [
    "# Importing the required libraries and functions.\n",
    "import pandas as pd\n",
    "from pyspark.sql import SparkSession\n",
    "from pyspark.sql.functions import col, current_timestamp"
   ]
  },
  {
   "cell_type": "code",
   "execution_count": 0,
   "metadata": {
    "application/vnd.databricks.v1+cell": {
     "cellMetadata": {
      "byteLimit": 2048000,
      "rowLimit": 10000
     },
     "inputWidgets": {},
     "nuid": "27ed6806-8320-48eb-a946-28b9d06ee654",
     "showTitle": false,
     "tableResultSettingsMap": {},
     "title": ""
    }
   },
   "outputs": [],
   "source": [
    "# Reading the file present in public google cloud storage bucket\n",
    "url = \"https://storage.googleapis.com/gyg-store/transaction_data.csv\"\n",
    "\n",
    "df = pd.read_csv(url)"
   ]
  },
  {
   "cell_type": "code",
   "execution_count": 0,
   "metadata": {
    "application/vnd.databricks.v1+cell": {
     "cellMetadata": {
      "byteLimit": 2048000,
      "rowLimit": 10000
     },
     "inputWidgets": {},
     "nuid": "371ffa2f-0165-4cda-acb0-77c7d82cdfda",
     "showTitle": false,
     "tableResultSettingsMap": {},
     "title": ""
    }
   },
   "outputs": [
    {
     "output_type": "stream",
     "name": "stdout",
     "output_type": "stream",
     "text": [
      "root\n |-- UserId: integer (nullable = true)\n |-- TransactionId: integer (nullable = true)\n |-- TransactionTime: string (nullable = true)\n |-- ItemCode: integer (nullable = true)\n |-- ItemDescription: string (nullable = true)\n |-- NumberOfItemsPurchased: integer (nullable = true)\n |-- CostPerItem: decimal(18,2) (nullable = true)\n |-- Country: string (nullable = true)\n |-- load_date: timestamp (nullable = false)\n\n"
     ]
    }
   ],
   "source": [
    "# Converting to spark dataframe\n",
    "df_spark = spark.createDataFrame(df)\n",
    "\n",
    "# Aligning the schema with table and adding load_date\n",
    "df_schema = (\n",
    "    df_spark.withColumn(\"TransactionId\", col(\"TransactionId\").cast(\"int\"))\n",
    "    .withColumn(\"NumberOfItemsPurchased\", col(\"NumberOfItemsPurchased\").cast(\"int\"))\n",
    "    .withColumn(\"ItemCode\", col(\"ItemCode\").cast(\"int\"))\n",
    "    .withColumn(\"UserId\", col(\"UserId\").cast(\"int\"))\n",
    "    .withColumn(\"CostPerItem\", col(\"CostPerItem\").cast(\"decimal(18,2)\"))\n",
    "    .withColumn(\"load_date\", current_timestamp())\n",
    ")"
   ]
  },
  {
   "cell_type": "code",
   "execution_count": 0,
   "metadata": {
    "application/vnd.databricks.v1+cell": {
     "cellMetadata": {
      "byteLimit": 2048000,
      "implicitDf": true,
      "rowLimit": 10000
     },
     "inputWidgets": {},
     "nuid": "1e204c6d-7a5c-493d-bf8a-974645da11ce",
     "showTitle": false,
     "tableResultSettingsMap": {},
     "title": ""
    }
   },
   "outputs": [],
   "source": [
    "# Ingesting the data into staging table\n",
    "schema = \"stg_store\"\n",
    "table_name = \"stg_orders\"\n",
    "\n",
    "df_schema.write.format(\"delta\").mode(\"overwrite\").saveAsTable(f\"{schema}.{table_name}\")"
   ]
  }
 ],
 "metadata": {
  "application/vnd.databricks.v1+notebook": {
   "computePreferences": null,
   "dashboards": [],
   "environmentMetadata": {
    "base_environment": "",
    "environment_version": "2"
   },
   "inputWidgetPreferences": null,
   "language": "python",
   "notebookMetadata": {
    "mostRecentlyExecutedCommandWithImplicitDF": {
     "commandId": -1,
     "dataframes": [
      "_sqldf"
     ]
    },
    "pythonIndentUnit": 4
   },
   "notebookName": "Store - Data Ingestion",
   "widgets": {}
  },
  "language_info": {
   "name": "python"
  }
 },
 "nbformat": 4,
 "nbformat_minor": 0
}